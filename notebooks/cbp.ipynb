{
 "cells": [
  {
   "cell_type": "markdown",
   "metadata": {},
   "source": [
    "# Component Based Programming CLI\n",
    "\n",
    "## Ranom thoughts atm\n",
    "\n",
    "* Building and updating publicly\n",
    "* Proper OSS project on github\n",
    "    * Use github actions too.. maybe.. could just mirror private repo on private host\n",
    "* This is going to initially be my playground and where I'll start to build the infrastructure, \n",
    "    but only according to my immediate needs.. iow FOR what I need it for.\n",
    "* Coffee is ready!\n",
    "\n",
    "---\n",
    "\n",
    "* Hmm, lets try something\n",
    "\n",
    "```\n",
    "[This is a node]-----------[This is another node]\n",
    "                    |\n",
    "                    |\n",
    "            [Here is a child node]\n",
    "```\n",
    "\n",
    "* OK.. need an AI to translate graph designs in Markdown and elsewhere\n",
    "    * Jupyter orientated AI agent\n",
    "\n",
    "---\n",
    "\n",
    "## Thoughts on Infrastructure\n",
    "\n",
    "* Gateway is FastAPI\n",
    "    * gql from web-ui to fastapi\n",
    "    * decides on manner of execution\n",
    "        * local host\n",
    "            * async\n",
    "            * process pool\n",
    "        * local network\n",
    "        * cloud\n",
    "        * accelerator\n",
    "        * api"
   ]
  }
 ],
 "metadata": {
  "language_info": {
   "name": "python"
  },
  "orig_nbformat": 4
 },
 "nbformat": 4,
 "nbformat_minor": 2
}
